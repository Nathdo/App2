{
 "cells": [
  {
   "cell_type": "code",
   "execution_count": null,
   "metadata": {},
   "outputs": [],
   "source": [
    "import pyodbc \n",
    "\n",
    "DB_CONFIG = {\n",
    "    'SERVER': 'JBI',\n",
    "    'DATABASE': 'nw_nathando'}\n",
    "    \n",
    "\n",
    "def get_db_connection():\n",
    "    \"\"\"Établit et retourne une connexion à la base de données\"\"\"\n",
    "    conn_str = (\n",
    "        f'DRIVER={{SQL Server}};'\n",
    "        f'SERVER={DB_CONFIG[\"SERVER\"]};'\n",
    "        f'DATABASE={DB_CONFIG[\"DATABASE\"]};'\n",
    "        'Trusted_Connection=yes;')\n",
    "    try:\n",
    "        conn = pyodbc.connect(conn_str)\n",
    "        return conn\n",
    "    except pyodbc.Error as e:\n",
    "        print(f\"Database connection error: {e}\")\n",
    "        return None"
   ]
  },
  {
   "cell_type": "code",
   "execution_count": 3,
   "metadata": {},
   "outputs": [
    {
     "ename": "NameError",
     "evalue": "name 'get_db_connection' is not defined",
     "output_type": "error",
     "traceback": [
      "\u001b[0;31m---------------------------------------------------------------------------\u001b[0m",
      "\u001b[0;31mNameError\u001b[0m                                 Traceback (most recent call last)",
      "Cell \u001b[0;32mIn[3], line 1\u001b[0m\n\u001b[0;32m----> 1\u001b[0m conn \u001b[38;5;241m=\u001b[39m \u001b[43mget_db_connection\u001b[49m()\n\u001b[1;32m      2\u001b[0m \u001b[38;5;28;01mif\u001b[39;00m conn:\n\u001b[1;32m      3\u001b[0m     \u001b[38;5;28mprint\u001b[39m(\u001b[38;5;124m\"\u001b[39m\u001b[38;5;124mConnexion réussie!\u001b[39m\u001b[38;5;124m\"\u001b[39m)\n",
      "\u001b[0;31mNameError\u001b[0m: name 'get_db_connection' is not defined"
     ]
    }
   ],
   "source": [
    "conn = get_db_connection()\n",
    "if conn:\n",
    "    print(\"Connexion réussie!\")\n",
    "    cursor = conn.cursor()\n",
    "    cursor.execute(\"SELECT * FROM Users\")\n",
    "    for row in cursor:\n",
    "        print(row)\n",
    "    conn.close()"
   ]
  }
 ],
 "metadata": {
  "kernelspec": {
   "display_name": ".venv",
   "language": "python",
   "name": "python3"
  },
  "language_info": {
   "codemirror_mode": {
    "name": "ipython",
    "version": 3
   },
   "file_extension": ".py",
   "mimetype": "text/x-python",
   "name": "python",
   "nbconvert_exporter": "python",
   "pygments_lexer": "ipython3",
   "version": "3.9.6"
  }
 },
 "nbformat": 4,
 "nbformat_minor": 2
}
